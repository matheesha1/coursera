{
 "cells": [
  {
   "cell_type": "code",
   "execution_count": 4,
   "metadata": {},
   "outputs": [],
   "source": [
    "import pandas as pd\n",
    "import numpy as np"
   ]
  },
  {
   "cell_type": "code",
   "execution_count": 20,
   "metadata": {},
   "outputs": [],
   "source": [
    "df=pd.read_csv('E:/NPD/CEH/CSV/Calculations/CombinedAccSMD/AccSMD_Combined_1986_1990.csv') \n",
    "\n",
    "def AccSMD_function_save(xx,yearnumber,X,Y):\n",
    "    dfx=df.loc[(df[\"Year\"]==int(yearnumber)) & (df[\"ensemble_member\"]==int(xx)) & (df[\"X\"]== X) & (df[\"Y\"]== Y), ('ensemble_member','Year','X','Y','AccSMD')]\n",
    "    psmd=(dfx.AccSMD.min())*-1\n",
    "    \n",
    "    dfxx = pd.DataFrame(np.array([[xx,yearnumber,X,Y,psmd]]))    \n",
    " \n",
    "    dfxx.to_csv(\"E:/NPD/CEH/CSV/Calculations/PSMD/1986_1990_PSMD.csv\", mode='a', header=False,index=False)\n",
    "    dfxx.empty\n"
   ]
  },
  {
   "cell_type": "code",
   "execution_count": null,
   "metadata": {},
   "outputs": [],
   "source": [
    "df_uk=pd.read_csv('E:/NPD/CEH/UKLoc/ukpoints.csv')\n",
    "for ind in df_uk.index:\n",
    "    x_cor=df_uk['X'][ind]\n",
    "    y_cor=df_uk['Y'][ind]\n",
    "    for yearnumber in range(1986, 1991, 1):\n",
    "        ens = [\"01\", \"04\", \"05\", \"06\", \"07\", \"08\", \"09\", \"10\", \"11\", \"12\", \"13\", \"15\"]\n",
    "        for xx in ens:\n",
    "            AccSMD_function_save(xx,yearnumber,x_cor,y_cor)"
   ]
  },
  {
   "cell_type": "code",
   "execution_count": null,
   "metadata": {},
   "outputs": [],
   "source": []
  }
 ],
 "metadata": {
  "kernelspec": {
   "display_name": "Python 3",
   "language": "python",
   "name": "python3"
  },
  "language_info": {
   "codemirror_mode": {
    "name": "ipython",
    "version": 3
   },
   "file_extension": ".py",
   "mimetype": "text/x-python",
   "name": "python",
   "nbconvert_exporter": "python",
   "pygments_lexer": "ipython3",
   "version": "3.8.8"
  }
 },
 "nbformat": 4,
 "nbformat_minor": 4
}
